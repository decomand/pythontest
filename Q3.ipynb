{
 "cells": [
  {
   "cell_type": "code",
   "execution_count": null,
   "metadata": {},
   "outputs": [],
   "source": [
    "# Q3 answer template\n",
    "\n",
    "def solution(store, customer):\n",
    "    answer = []\n",
    "    for x in customer:\n",
    "        if x in store:\n",
    "            answer.append(\"yes\")\n",
    "        else:\n",
    "            answer.append(\"no\")\n",
    "    return answer\n",
    "\n",
    "\n",
    "store = [2,3,7,8,9]\n",
    "customer = [7,5,9]\n",
    "answer = solution(store, customer)\n",
    "print(answer)"
   ]
  }
 ],
 "metadata": {
  "kernelspec": {
   "display_name": "Python 3.9.7 64-bit",
   "language": "python",
   "name": "python3"
  },
  "language_info": {
   "codemirror_mode": {
    "name": "ipython",
    "version": 3
   },
   "file_extension": ".py",
   "mimetype": "text/x-python",
   "name": "python",
   "nbconvert_exporter": "python",
   "pygments_lexer": "ipython3",
   "version": "3.9.7"
  },
  "vscode": {
   "interpreter": {
    "hash": "81794d4967e6c3204c66dcd87b604927b115b27c00565d3d43f05ba2f3a2cb0d"
   }
  }
 },
 "nbformat": 4,
 "nbformat_minor": 4
}
