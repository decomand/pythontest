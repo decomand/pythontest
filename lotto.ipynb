{
 "cells": [
  {
   "cell_type": "code",
   "execution_count": 1,
   "metadata": {},
   "outputs": [
    {
     "name": "stdout",
     "output_type": "stream",
     "text": [
      "[]\n"
     ]
    }
   ],
   "source": [
    "# Q1 Answer template\n",
    "\n",
    "def solution(lottos, win_nums):\n",
    "    good=0\n",
    "    zero=0\n",
    "    for x in lottos:\n",
    "        if x in win_nums:\n",
    "            good+=1\n",
    "        if x==0:\n",
    "            zero+=1\n",
    "            \n",
    "    best=good+zero\n",
    "    worst=good\n",
    "    lottolist=[6,6,5,4,3,2,1]\n",
    "    \n",
    "    return [lottolist[best],lottolist[worst]]\n"
   ]
  }
 ],
 "metadata": {
  "kernelspec": {
   "display_name": "Python 3.9.7 64-bit",
   "language": "python",
   "name": "python3"
  },
  "language_info": {
   "codemirror_mode": {
    "name": "ipython",
    "version": 3
   },
   "file_extension": ".py",
   "mimetype": "text/x-python",
   "name": "python",
   "nbconvert_exporter": "python",
   "pygments_lexer": "ipython3",
   "version": "3.9.7"
  },
  "vscode": {
   "interpreter": {
    "hash": "81794d4967e6c3204c66dcd87b604927b115b27c00565d3d43f05ba2f3a2cb0d"
   }
  }
 },
 "nbformat": 4,
 "nbformat_minor": 4
}
